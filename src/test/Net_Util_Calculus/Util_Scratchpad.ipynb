{
 "cells": [
  {
   "cell_type": "code",
   "execution_count": 4,
   "id": "9562e143-2d13-4ee7-ab7d-eedfb5cfe43e",
   "metadata": {},
   "outputs": [],
   "source": [
    "import numpy as np\n",
    "import sympy as smp\n",
    "import matplotlib.pyplot as plt"
   ]
  },
  {
   "cell_type": "code",
   "execution_count": 7,
   "id": "af88cbc0-3cab-45f5-98c8-a17e2ee34249",
   "metadata": {},
   "outputs": [],
   "source": [
    "points = np.array([[1, 5.6, 7.925, 8.1112, 11, 15.89],[2, 4.8977, 6.5358, 9.256, 7.586, 12.256]])"
   ]
  },
  {
   "cell_type": "code",
   "execution_count": 18,
   "id": "c6323fb9-4acc-4202-af2a-49eb56dd0249",
   "metadata": {},
   "outputs": [],
   "source": [
    "y, x, m, b = smp.symbols(\"y x m b\")"
   ]
  },
  {
   "cell_type": "code",
   "execution_count": 19,
   "id": "2b6a214e-aa3b-4deb-a6b6-06164b34dfbd",
   "metadata": {},
   "outputs": [],
   "source": [
    "#y = smp.Function(\"y\")(x, m, b)"
   ]
  },
  {
   "cell_type": "code",
   "execution_count": 20,
   "id": "8f39515d-7066-45b5-ad90-df819507f230",
   "metadata": {},
   "outputs": [
    {
     "data": {
      "text/latex": [
       "$\\displaystyle y$"
      ],
      "text/plain": [
       "y"
      ]
     },
     "execution_count": 20,
     "metadata": {},
     "output_type": "execute_result"
    }
   ],
   "source": [
    "y"
   ]
  },
  {
   "cell_type": "code",
   "execution_count": 23,
   "id": "abec635c-bd3d-408b-ad2c-df0dcd178b7c",
   "metadata": {},
   "outputs": [],
   "source": [
    "e = smp.Function(\"e\")(y, x, m, b)"
   ]
  },
  {
   "cell_type": "code",
   "execution_count": 30,
   "id": "feb443bb-8e82-4121-ad79-90b903baa580",
   "metadata": {},
   "outputs": [],
   "source": [
    "error = (y - (m*x + b))**2"
   ]
  },
  {
   "cell_type": "code",
   "execution_count": 32,
   "id": "761f689a-051d-4502-a811-eaa52c5ad661",
   "metadata": {},
   "outputs": [],
   "source": [
    "partial_m = error.diff(m)"
   ]
  },
  {
   "cell_type": "code",
   "execution_count": 33,
   "id": "3a5198da-e1f1-4f72-b8a6-af51e4453cee",
   "metadata": {},
   "outputs": [],
   "source": [
    "partial_b = error.diff(b)"
   ]
  },
  {
   "cell_type": "code",
   "execution_count": null,
   "id": "6fbe435e-5679-448a-8502-b81accc7a279",
   "metadata": {},
   "outputs": [],
   "source": []
  }
 ],
 "metadata": {
  "kernelspec": {
   "display_name": "Python 3 (ipykernel)",
   "language": "python",
   "name": "python3"
  },
  "language_info": {
   "codemirror_mode": {
    "name": "ipython",
    "version": 3
   },
   "file_extension": ".py",
   "mimetype": "text/x-python",
   "name": "python",
   "nbconvert_exporter": "python",
   "pygments_lexer": "ipython3",
   "version": "3.11.8"
  }
 },
 "nbformat": 4,
 "nbformat_minor": 5
}
