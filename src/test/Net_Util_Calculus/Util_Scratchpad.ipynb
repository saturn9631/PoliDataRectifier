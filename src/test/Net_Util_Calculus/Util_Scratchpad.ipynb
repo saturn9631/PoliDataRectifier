{
 "cells": [
  {
   "cell_type": "code",
   "execution_count": 3,
   "id": "9562e143-2d13-4ee7-ab7d-eedfb5cfe43e",
   "metadata": {},
   "outputs": [],
   "source": [
    "import numpy as np\n",
    "import sympy as smp\n",
    "import torch as tc\n",
    "from torch import nn\n",
    "from torch.utils.data import DataLoader\n",
    "from torchvision import datasets, transforms\n",
    "import matplotlib.pyplot as plt"
   ]
  },
  {
   "cell_type": "code",
   "execution_count": 4,
   "id": "44a75630-caec-4e4d-980c-0233d3c695b5",
   "metadata": {},
   "outputs": [],
   "source": [
    "class Test_Neural_Net(nn.Module):\n",
    "    def __init__(self, terms):\n",
    "        self.linear_relu_stack = nn.Sequential(\n",
    "            nn.Linear(terms, 55),\n",
    "            nn.ReLu()\n",
    "        )"
   ]
  },
  {
   "cell_type": "code",
   "execution_count": null,
   "id": "60326e43-1e5b-4fdc-a51f-9bba59d36235",
   "metadata": {},
   "outputs": [],
   "source": []
  }
 ],
 "metadata": {
  "kernelspec": {
   "display_name": "Python 3 (ipykernel)",
   "language": "python",
   "name": "python3"
  },
  "language_info": {
   "codemirror_mode": {
    "name": "ipython",
    "version": 3
   },
   "file_extension": ".py",
   "mimetype": "text/x-python",
   "name": "python",
   "nbconvert_exporter": "python",
   "pygments_lexer": "ipython3",
   "version": "3.11.8"
  }
 },
 "nbformat": 4,
 "nbformat_minor": 5
}
