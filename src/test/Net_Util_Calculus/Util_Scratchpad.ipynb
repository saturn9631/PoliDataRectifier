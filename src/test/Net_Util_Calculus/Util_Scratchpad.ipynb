{
 "cells": [
  {
   "cell_type": "code",
   "execution_count": 2,
   "id": "9562e143-2d13-4ee7-ab7d-eedfb5cfe43e",
   "metadata": {},
   "outputs": [],
   "source": [
    "import numpy as np\n",
    "import sympy as smp\n",
    "import matplotlib.pyplot as plt"
   ]
  },
  {
   "cell_type": "code",
   "execution_count": 3,
   "id": "af88cbc0-3cab-45f5-98c8-a17e2ee34249",
   "metadata": {},
   "outputs": [],
   "source": [
    "points = np.array([[1, 5.6, 7.925, 8.1112, 11, 15.89],[2, 4.8977, 6.5358, 9.256, 7.586, 12.256]])"
   ]
  },
  {
   "cell_type": "code",
   "execution_count": 4,
   "id": "c6323fb9-4acc-4202-af2a-49eb56dd0249",
   "metadata": {},
   "outputs": [],
   "source": [
    "y, x, m, b = smp.symbols(\"y x m b\")"
   ]
  },
  {
   "cell_type": "code",
   "execution_count": 5,
   "id": "2b6a214e-aa3b-4deb-a6b6-06164b34dfbd",
   "metadata": {},
   "outputs": [],
   "source": [
    "#y = smp.Function(\"y\")(x, m, b)"
   ]
  },
  {
   "cell_type": "code",
   "execution_count": 6,
   "id": "8f39515d-7066-45b5-ad90-df819507f230",
   "metadata": {},
   "outputs": [
    {
     "data": {
      "text/latex": [
       "$\\displaystyle y$"
      ],
      "text/plain": [
       "y"
      ]
     },
     "execution_count": 6,
     "metadata": {},
     "output_type": "execute_result"
    }
   ],
   "source": [
    "y"
   ]
  },
  {
   "cell_type": "code",
   "execution_count": 7,
   "id": "abec635c-bd3d-408b-ad2c-df0dcd178b7c",
   "metadata": {},
   "outputs": [],
   "source": [
    "e = smp.Function(\"e\")(y, x, m, b)"
   ]
  },
  {
   "cell_type": "code",
   "execution_count": 8,
   "id": "feb443bb-8e82-4121-ad79-90b903baa580",
   "metadata": {},
   "outputs": [],
   "source": [
    "error = (y - (m*x + b))**2"
   ]
  },
  {
   "cell_type": "code",
   "execution_count": 9,
   "id": "761f689a-051d-4502-a811-eaa52c5ad661",
   "metadata": {},
   "outputs": [],
   "source": [
    "partial_m = error.diff(m)"
   ]
  },
  {
   "cell_type": "code",
   "execution_count": 10,
   "id": "3a5198da-e1f1-4f72-b8a6-af51e4453cee",
   "metadata": {},
   "outputs": [],
   "source": [
    "partial_b = error.diff(b)"
   ]
  },
  {
   "cell_type": "code",
   "execution_count": 11,
   "id": "6fbe435e-5679-448a-8502-b81accc7a279",
   "metadata": {},
   "outputs": [
    {
     "data": {
      "text/latex": [
       "$\\displaystyle - 2 x \\left(- b - m x + y\\right)$"
      ],
      "text/plain": [
       "-2*x*(-b - m*x + y)"
      ]
     },
     "execution_count": 11,
     "metadata": {},
     "output_type": "execute_result"
    }
   ],
   "source": [
    "partial_m"
   ]
  },
  {
   "cell_type": "code",
   "execution_count": 12,
   "id": "190085fe-83ad-4de7-8a2d-32477778206f",
   "metadata": {},
   "outputs": [
    {
     "data": {
      "text/latex": [
       "$\\displaystyle 2 b + 2 m x - 2 y$"
      ],
      "text/plain": [
       "2*b + 2*m*x - 2*y"
      ]
     },
     "execution_count": 12,
     "metadata": {},
     "output_type": "execute_result"
    }
   ],
   "source": [
    "partial_b"
   ]
  },
  {
   "cell_type": "code",
   "execution_count": 39,
   "id": "14d09b12-2e11-4ff1-95da-3cb8c36f407b",
   "metadata": {},
   "outputs": [],
   "source": [
    "x_points = np.random.rand (5) * np.linspace(0, 15, 5)\n",
    "y_points = np.random.rand (5) * np.linspace(0, 20, 5)"
   ]
  },
  {
   "cell_type": "code",
   "execution_count": 3,
   "id": "df075ef2-ff7e-4dbb-8405-d8a887e634f3",
   "metadata": {},
   "outputs": [],
   "source": [
    "coefficients = np.array([1, 4, 12, 16, 25, 24, 21, 32, 36])"
   ]
  },
  {
   "cell_type": "code",
   "execution_count": 6,
   "id": "02096566-6076-47ed-9dc0-d81dd23b19d4",
   "metadata": {},
   "outputs": [],
   "source": [
    "import math"
   ]
  },
  {
   "cell_type": "code",
   "execution_count": 27,
   "id": "d73cbe6f-c9a3-4784-a809-b11db5bcccb0",
   "metadata": {},
   "outputs": [
    {
     "name": "stdout",
     "output_type": "stream",
     "text": [
      "1\n",
      "0\n",
      "5036279.457142859\n",
      "4\n",
      "1\n",
      "5036327.457142859\n",
      "12\n",
      "2\n",
      "5037191.457142859\n",
      "16\n",
      "3\n",
      "5041799.457142859\n",
      "25\n",
      "4\n",
      "5063399.457142859\n",
      "24\n",
      "5\n",
      "5113165.857142859\n",
      "21\n",
      "6\n",
      "5200257.057142859\n",
      "32\n",
      "7\n",
      "5427760.600000002\n",
      "36\n",
      "8\n",
      "5811672.828571431\n"
     ]
    }
   ],
   "source": [
    "index = results = 0\n",
    "for coefficient in coefficients:\n",
    "    print (coefficient)\n",
    "    print (index)\n",
    "    result += (coefficient / math.factorial(index)) * (input) ** index\n",
    "    print (result)\n",
    "    index += 1"
   ]
  },
  {
   "cell_type": "code",
   "execution_count": 39,
   "id": "86121746-1859-4d30-919f-bc47eb2ad352",
   "metadata": {},
   "outputs": [],
   "source": [
    "a, b, c, d, e, f, g, h, i, j, k, l = smp.symbols(\"a b c d e f g h i j k l\")\n",
    "x, y, z, w = smp.symbols(\"x y z w\")"
   ]
  },
  {
   "cell_type": "code",
   "execution_count": 40,
   "id": "503f6297-1ea4-4fdc-a345-d1a48358088f",
   "metadata": {},
   "outputs": [],
   "source": [
    "eq1 = smp.Matrix([a, b, c, d])\n",
    "eq2 = smp.Matrix([e, f, g, h])\n",
    "eq3 = smp.Matrix([i, j, k, l])"
   ]
  },
  {
   "cell_type": "code",
   "execution_count": 43,
   "id": "1e6027d7-e2d3-4ccb-8d75-f0c7057bb29a",
   "metadata": {},
   "outputs": [],
   "source": [
    "m = smp.Matrix([[a,b,c,d], [0, b, c, d], [0, 0, c, d], [0, 0, 0, d]])"
   ]
  },
  {
   "cell_type": "code",
   "execution_count": 62,
   "id": "b552ae88-ec7e-4c41-b272-37afb66b08f8",
   "metadata": {},
   "outputs": [
    {
     "data": {
      "text/latex": [
       "$\\displaystyle \\left[\\begin{matrix}a & b & c & d\\\\0 & b & c & d\\\\0 & 0 & c & d\\\\0 & 0 & 0 & d\\end{matrix}\\right]$"
      ],
      "text/plain": [
       "Matrix([\n",
       "[a, b, c, d],\n",
       "[0, b, c, d],\n",
       "[0, 0, c, d],\n",
       "[0, 0, 0, d]])"
      ]
     },
     "execution_count": 62,
     "metadata": {},
     "output_type": "execute_result"
    }
   ],
   "source": [
    "m"
   ]
  },
  {
   "cell_type": "code",
   "execution_count": 51,
   "id": "9afcb11e-9cb9-4872-94e8-f36289c5c570",
   "metadata": {},
   "outputs": [],
   "source": [
    "n = m.rref()"
   ]
  },
  {
   "cell_type": "code",
   "execution_count": 52,
   "id": "523eb045-e504-4946-8838-20920c63d3b2",
   "metadata": {},
   "outputs": [
    {
     "data": {
      "text/latex": [
       "$\\displaystyle \\left[\\begin{matrix}1 & 0 & 0 & 0\\\\0 & 1 & 0 & 0\\\\0 & 0 & 1 & 0\\\\0 & 0 & 0 & 1\\end{matrix}\\right]$"
      ],
      "text/plain": [
       "Matrix([\n",
       "[1, 0, 0, 0],\n",
       "[0, 1, 0, 0],\n",
       "[0, 0, 1, 0],\n",
       "[0, 0, 0, 1]])"
      ]
     },
     "execution_count": 52,
     "metadata": {},
     "output_type": "execute_result"
    }
   ],
   "source": [
    "n[0]"
   ]
  },
  {
   "cell_type": "code",
   "execution_count": 69,
   "id": "58fe54fe-9dfe-46fe-9824-7028dd46c6a2",
   "metadata": {},
   "outputs": [],
   "source": [
    "o = m.transpose() #smp.Matrix([[a,b,c,d], [a, b, c, 0], [a, b, 0, 0], [a, 0, 0, 0]])"
   ]
  },
  {
   "cell_type": "code",
   "execution_count": 70,
   "id": "a0224768-6bdf-427d-a02b-fd8346829fed",
   "metadata": {},
   "outputs": [
    {
     "data": {
      "text/latex": [
       "$\\displaystyle \\left[\\begin{matrix}a & 0 & 0 & 0\\\\b & b & 0 & 0\\\\c & c & c & 0\\\\d & d & d & d\\end{matrix}\\right]$"
      ],
      "text/plain": [
       "Matrix([\n",
       "[a, 0, 0, 0],\n",
       "[b, b, 0, 0],\n",
       "[c, c, c, 0],\n",
       "[d, d, d, d]])"
      ]
     },
     "execution_count": 70,
     "metadata": {},
     "output_type": "execute_result"
    }
   ],
   "source": [
    "o"
   ]
  },
  {
   "cell_type": "code",
   "execution_count": 71,
   "id": "8cc230c3-4cb7-416d-b951-e330a8bd1ef7",
   "metadata": {},
   "outputs": [],
   "source": [
    "p = o.rref()"
   ]
  },
  {
   "cell_type": "code",
   "execution_count": 72,
   "id": "537aacff-1f9c-4ca5-80c1-a55280eb0de3",
   "metadata": {},
   "outputs": [
    {
     "data": {
      "text/latex": [
       "$\\displaystyle \\left[\\begin{matrix}1 & 0 & 0 & 0\\\\0 & 1 & 0 & 0\\\\0 & 0 & 1 & 0\\\\0 & 0 & 0 & 1\\end{matrix}\\right]$"
      ],
      "text/plain": [
       "Matrix([\n",
       "[1, 0, 0, 0],\n",
       "[0, 1, 0, 0],\n",
       "[0, 0, 1, 0],\n",
       "[0, 0, 0, 1]])"
      ]
     },
     "execution_count": 72,
     "metadata": {},
     "output_type": "execute_result"
    }
   ],
   "source": [
    "p[0]"
   ]
  },
  {
   "cell_type": "code",
   "execution_count": null,
   "id": "38ee86a3-3d20-427e-ad89-6fba2c87ef4b",
   "metadata": {},
   "outputs": [],
   "source": []
  }
 ],
 "metadata": {
  "kernelspec": {
   "display_name": "Python 3 (ipykernel)",
   "language": "python",
   "name": "python3"
  },
  "language_info": {
   "codemirror_mode": {
    "name": "ipython",
    "version": 3
   },
   "file_extension": ".py",
   "mimetype": "text/x-python",
   "name": "python",
   "nbconvert_exporter": "python",
   "pygments_lexer": "ipython3",
   "version": "3.11.8"
  }
 },
 "nbformat": 4,
 "nbformat_minor": 5
}
