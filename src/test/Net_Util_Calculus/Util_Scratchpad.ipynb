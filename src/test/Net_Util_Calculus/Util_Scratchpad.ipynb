{
 "cells": [
  {
   "cell_type": "code",
   "execution_count": 3,
   "id": "9562e143-2d13-4ee7-ab7d-eedfb5cfe43e",
   "metadata": {},
   "outputs": [],
   "source": [
    "import numpy as np\n",
    "import sympy as smp\n",
    "import matplotlib.pyplot as plt"
   ]
  },
  {
   "cell_type": "code",
   "execution_count": 3,
   "id": "af88cbc0-3cab-45f5-98c8-a17e2ee34249",
   "metadata": {},
   "outputs": [],
   "source": [
    "points = np.array([[1, 5.6, 7.925, 8.1112, 11, 15.89],[2, 4.8977, 6.5358, 9.256, 7.586, 12.256]])"
   ]
  },
  {
   "cell_type": "code",
   "execution_count": 4,
   "id": "c6323fb9-4acc-4202-af2a-49eb56dd0249",
   "metadata": {},
   "outputs": [],
   "source": [
    "y, x, m, b = smp.symbols(\"y x m b\")"
   ]
  },
  {
   "cell_type": "code",
   "execution_count": 5,
   "id": "2b6a214e-aa3b-4deb-a6b6-06164b34dfbd",
   "metadata": {},
   "outputs": [],
   "source": [
    "#y = smp.Function(\"y\")(x, m, b)"
   ]
  },
  {
   "cell_type": "code",
   "execution_count": 6,
   "id": "8f39515d-7066-45b5-ad90-df819507f230",
   "metadata": {},
   "outputs": [
    {
     "data": {
      "text/latex": [
       "$\\displaystyle y$"
      ],
      "text/plain": [
       "y"
      ]
     },
     "execution_count": 6,
     "metadata": {},
     "output_type": "execute_result"
    }
   ],
   "source": [
    "y"
   ]
  },
  {
   "cell_type": "code",
   "execution_count": 7,
   "id": "abec635c-bd3d-408b-ad2c-df0dcd178b7c",
   "metadata": {},
   "outputs": [],
   "source": [
    "e = smp.Function(\"e\")(y, x, m, b)"
   ]
  },
  {
   "cell_type": "code",
   "execution_count": 8,
   "id": "feb443bb-8e82-4121-ad79-90b903baa580",
   "metadata": {},
   "outputs": [],
   "source": [
    "error = (y - (m*x + b))**2"
   ]
  },
  {
   "cell_type": "code",
   "execution_count": 9,
   "id": "761f689a-051d-4502-a811-eaa52c5ad661",
   "metadata": {},
   "outputs": [],
   "source": [
    "partial_m = error.diff(m)"
   ]
  },
  {
   "cell_type": "code",
   "execution_count": 10,
   "id": "3a5198da-e1f1-4f72-b8a6-af51e4453cee",
   "metadata": {},
   "outputs": [],
   "source": [
    "partial_b = error.diff(b)"
   ]
  },
  {
   "cell_type": "code",
   "execution_count": 11,
   "id": "6fbe435e-5679-448a-8502-b81accc7a279",
   "metadata": {},
   "outputs": [
    {
     "data": {
      "text/latex": [
       "$\\displaystyle - 2 x \\left(- b - m x + y\\right)$"
      ],
      "text/plain": [
       "-2*x*(-b - m*x + y)"
      ]
     },
     "execution_count": 11,
     "metadata": {},
     "output_type": "execute_result"
    }
   ],
   "source": [
    "partial_m"
   ]
  },
  {
   "cell_type": "code",
   "execution_count": 12,
   "id": "190085fe-83ad-4de7-8a2d-32477778206f",
   "metadata": {},
   "outputs": [
    {
     "data": {
      "text/latex": [
       "$\\displaystyle 2 b + 2 m x - 2 y$"
      ],
      "text/plain": [
       "2*b + 2*m*x - 2*y"
      ]
     },
     "execution_count": 12,
     "metadata": {},
     "output_type": "execute_result"
    }
   ],
   "source": [
    "partial_b"
   ]
  },
  {
   "cell_type": "code",
   "execution_count": 39,
   "id": "14d09b12-2e11-4ff1-95da-3cb8c36f407b",
   "metadata": {},
   "outputs": [],
   "source": [
    "x_points = np.random.rand (5) * np.linspace(0, 15, 5)\n",
    "y_points = np.random.rand (5) * np.linspace(0, 20, 5)"
   ]
  },
  {
   "cell_type": "code",
   "execution_count": 51,
   "id": "86915fcf-afc9-4558-98b7-ad8af3827c07",
   "metadata": {},
   "outputs": [
    {
     "data": {
      "text/plain": [
       "array([0., 0., 0., 0., 0., 0., 0., 0., 0., 0.])"
      ]
     },
     "execution_count": 51,
     "metadata": {},
     "output_type": "execute_result"
    }
   ],
   "source": [
    "np.zeros(10)"
   ]
  },
  {
   "cell_type": "code",
   "execution_count": 4,
   "id": "df075ef2-ff7e-4dbb-8405-d8a887e634f3",
   "metadata": {},
   "outputs": [
    {
     "data": {
      "text/plain": [
       "array([0., 0., 0., 0., 0.])"
      ]
     },
     "execution_count": 4,
     "metadata": {},
     "output_type": "execute_result"
    }
   ],
   "source": [
    "coefficients = np.array([])"
   ]
  },
  {
   "cell_type": "code",
   "execution_count": null,
   "id": "93b044c2-9166-47a2-9b2a-be87d2f4d8ab",
   "metadata": {},
   "outputs": [],
   "source": [
    "input = 12"
   ]
  },
  {
   "cell_type": "code",
   "execution_count": null,
   "id": "d73cbe6f-c9a3-4784-a809-b11db5bcccb0",
   "metadata": {},
   "outputs": [],
   "source": [
    "index = results = 0\n",
    "for coefficient in coefficients:\n",
    "    result = (coefficient / math.factorial(index)) * (input) ** index\n",
    "    index += 1"
   ]
  },
  {
   "cell_type": "code",
   "execution_count": null,
   "id": "3cfd9b5c-0d10-4052-831a-6b1b306e106a",
   "metadata": {},
   "outputs": [],
   "source": [
    "results"
   ]
  }
 ],
 "metadata": {
  "kernelspec": {
   "display_name": "Python 3 (ipykernel)",
   "language": "python",
   "name": "python3"
  },
  "language_info": {
   "codemirror_mode": {
    "name": "ipython",
    "version": 3
   },
   "file_extension": ".py",
   "mimetype": "text/x-python",
   "name": "python",
   "nbconvert_exporter": "python",
   "pygments_lexer": "ipython3",
   "version": "3.11.8"
  }
 },
 "nbformat": 4,
 "nbformat_minor": 5
}
