{
 "cells": [
  {
   "cell_type": "code",
   "execution_count": 36,
   "id": "21794f20-d9d7-4b61-ab8f-233864af2c5b",
   "metadata": {},
   "outputs": [],
   "source": [
    "import sympy as smp\n",
    "import pandas as pd\n",
    "import numpy as np\n",
    "import matplotlib.pyplot as plt\n",
    "import torch\n",
    "import torch.nn as nn\n",
    "import torch.optim as optim"
   ]
  },
  {
   "cell_type": "code",
   "execution_count": 21,
   "id": "0487c0ce-d05e-46cc-aec7-db4165937b57",
   "metadata": {},
   "outputs": [],
   "source": [
    "strategies, payoffs = smp.symbols (\"sigma u\")"
   ]
  },
  {
   "cell_type": "code",
   "execution_count": 22,
   "id": "dba062c5-97c0-4046-836a-8b0a8517388f",
   "metadata": {},
   "outputs": [],
   "source": [
    "#Following the pytorch video Build Your First PyTorch Model (Linear Regression) (link = https://www.youtube.com/watch?v=QPCFnbonpNQ&t=970s)"
   ]
  },
  {
   "cell_type": "code",
   "execution_count": 23,
   "id": "7d4fe117-7d72-404e-b7cd-d6470ab8279f",
   "metadata": {},
   "outputs": [],
   "source": [
    "x = np.array([x for x in range(100)])"
   ]
  },
  {
   "cell_type": "code",
   "execution_count": 24,
   "id": "3fb53d6f-05a0-4fec-a960-e3f86f153130",
   "metadata": {},
   "outputs": [],
   "source": [
    "x = x.reshape(-1,1)"
   ]
  },
  {
   "cell_type": "code",
   "execution_count": 25,
   "id": "79abbdf3-9141-4c9b-bcec-f896bfc21a1b",
   "metadata": {},
   "outputs": [],
   "source": [
    "y = 46 + 2 * x.flatten()"
   ]
  },
  {
   "cell_type": "code",
   "execution_count": 26,
   "id": "8daaf880-3075-4f69-9ef5-dc9bff5eae4e",
   "metadata": {},
   "outputs": [
    {
     "data": {
      "image/png": "[encoded data removed]",
      "text/plain": [
       "<Figure size 640x480 with 1 Axes>"
      ]
     },
     "metadata": {},
     "output_type": "display_data"
    }
   ],
   "source": [
    "plt.scatter(x, y, label = \"Initial Data\")\n",
    "plt.title(\"Pre Pytorch\")\n",
    "plt.xlabel(\"X\")\n",
    "plt.ylabel(\"y\")\n",
    "plt.legend()\n",
    "plt.show()"
   ]
  },
  {
   "cell_type": "code",
   "execution_count": 27,
   "id": "fed9f263-db9d-4d3c-ab11-c4d35bf9849f",
   "metadata": {},
   "outputs": [],
   "source": [
    "x_mean, x_std = x.mean(), x.std()"
   ]
  },
  {
   "cell_type": "code",
   "execution_count": 28,
   "id": "2dd27571-709e-41f3-845d-5dbc89aca391",
   "metadata": {},
   "outputs": [],
   "source": [
    "x_normalized = (x - x_mean) / x_std"
   ]
  },
  {
   "cell_type": "code",
   "execution_count": 29,
   "id": "4827d151-1307-462d-8425-bd4001597544",
   "metadata": {},
   "outputs": [],
   "source": [
    "x_tensor = torch.tensor(x_normalized, dtype = torch.float32)"
   ]
  },
  {
   "cell_type": "code",
   "execution_count": 30,
   "id": "0fcc93ba-9cf7-4f76-b22f-8272ed76db7d",
   "metadata": {},
   "outputs": [],
   "source": [
    "y_mean, y_std = y.mean(), y.std()"
   ]
  },
  {
   "cell_type": "code",
   "execution_count": 31,
   "id": "ecee0d3d-7a80-4306-898c-fa9827ec5080",
   "metadata": {},
   "outputs": [],
   "source": [
    "y_normalized = (y - y_mean) / y_std"
   ]
  },
  {
   "cell_type": "code",
   "execution_count": 32,
   "id": "abf67423-92c5-4ca7-b258-da3e9f17d5f6",
   "metadata": {},
   "outputs": [],
   "source": [
    "y_tensor = torch.tensor(y_normalized, dtype = torch.float32)"
   ]
  },
  {
   "cell_type": "code",
   "execution_count": 33,
   "id": "d8b3bf87-18c8-4a89-8432-9573f7c54746",
   "metadata": {},
   "outputs": [],
   "source": [
    "class Lin_Regres_Model(nn.Module):\n",
    "    def __init__(self, in_features, out_features):\n",
    "        super().__init__()\n",
    "        self.linear = nn.Linear(in_features, out_features)\n",
    "    def forward(self, x):\n",
    "        return self.linear(x).squeeze(1)"
   ]
  },
  {
   "cell_type": "code",
   "execution_count": 34,
   "id": "040e4de0-e80d-40d3-b7be-caab9052e425",
   "metadata": {},
   "outputs": [],
   "source": [
    "model = Lin_Regres_Model(1, 1)"
   ]
  },
  {
   "cell_type": "code",
   "execution_count": 60,
   "id": "630e4883-e7da-4cb2-bb3e-21e6dbf5a0a8",
   "metadata": {},
   "outputs": [],
   "source": [
    "criterion = nn.MSELoss()\n",
    "optimizer = optim.SGD(model.parameters(), lr = 1)"
   ]
  },
  {
   "cell_type": "code",
   "execution_count": 61,
   "id": "28b27a22-e701-42a3-96a9-063f2bda4be8",
   "metadata": {},
   "outputs": [],
   "source": [
    "epoch_number = 40"
   ]
  },
  {
   "cell_type": "code",
   "execution_count": 64,
   "id": "1327508c-8c66-44cb-90d5-521229fb4c7e",
   "metadata": {},
   "outputs": [
    {
     "name": "stdout",
     "output_type": "stream",
     "text": [
      "Epoch [1/40], Loss: 0.00\n",
      "Epoch [2/40], Loss: 0.00\n",
      "Epoch [3/40], Loss: 0.00\n",
      "Epoch [4/40], Loss: 0.00\n",
      "Epoch [5/40], Loss: 0.00\n",
      "Epoch [6/40], Loss: 0.00\n",
      "Epoch [7/40], Loss: 0.00\n",
      "Epoch [8/40], Loss: 0.00\n",
      "Epoch [9/40], Loss: 0.00\n",
      "Epoch [10/40], Loss: 0.00\n",
      "Epoch [11/40], Loss: 0.00\n",
      "Epoch [12/40], Loss: 0.00\n",
      "Epoch [13/40], Loss: 0.00\n",
      "Epoch [14/40], Loss: 0.00\n",
      "Epoch [15/40], Loss: 0.00\n",
      "Epoch [16/40], Loss: 0.00\n",
      "Epoch [17/40], Loss: 0.00\n",
      "Epoch [18/40], Loss: 0.00\n",
      "Epoch [19/40], Loss: 0.00\n",
      "Epoch [20/40], Loss: 0.00\n",
      "Epoch [21/40], Loss: 0.00\n",
      "Epoch [22/40], Loss: 0.00\n",
      "Epoch [23/40], Loss: 0.00\n",
      "Epoch [24/40], Loss: 0.00\n",
      "Epoch [25/40], Loss: 0.00\n",
      "Epoch [26/40], Loss: 0.00\n",
      "Epoch [27/40], Loss: 0.00\n",
      "Epoch [28/40], Loss: 0.00\n",
      "Epoch [29/40], Loss: 0.00\n",
      "Epoch [30/40], Loss: 0.00\n",
      "Epoch [31/40], Loss: 0.00\n",
      "Epoch [32/40], Loss: 0.00\n",
      "Epoch [33/40], Loss: 0.00\n",
      "Epoch [34/40], Loss: 0.00\n",
      "Epoch [35/40], Loss: 0.00\n",
      "Epoch [36/40], Loss: 0.00\n",
      "Epoch [37/40], Loss: 0.00\n",
      "Epoch [38/40], Loss: 0.00\n",
      "Epoch [39/40], Loss: 0.00\n",
      "Epoch [40/40], Loss: 0.00\n"
     ]
    }
   ],
   "source": [
    "for epoch in range(epoch_number):\n",
    "    outputs = model(x_tensor)\n",
    "    loss = criterion(outputs, y_tensor)\n",
    "    optimizer.zero_grad()\n",
    "    loss.backward()\n",
    "    optimizer.step()\n",
    "    print(f\"Epoch [{epoch + 1}/{epoch_number}], Loss: {loss.item():.2f}\")"
   ]
  },
  {
   "cell_type": "code",
   "execution_count": 63,
   "id": "3e84a69e-e28e-4185-ae70-ee5939d2a6c7",
   "metadata": {},
   "outputs": [],
   "source": [
    "new_x = 69420"
   ]
  },
  {
   "cell_type": "code",
   "execution_count": 49,
   "id": "cdc0184e-9ef0-40f5-a0fc-ab3af9e3e891",
   "metadata": {},
   "outputs": [],
   "source": [
    "new_x_normalized = (new_x - x_mean) / x_std"
   ]
  },
  {
   "cell_type": "code",
   "execution_count": 51,
   "id": "15f8792f-494f-4577-8a0e-877a3647d81f",
   "metadata": {},
   "outputs": [],
   "source": [
    "new_x_tensor = torch.tensor(new_x_normalized, dtype = torch.float32).view(1, -1)"
   ]
  },
  {
   "cell_type": "code",
   "execution_count": 52,
   "id": "cde893db-d16b-42f1-884a-0be2197cc54e",
   "metadata": {},
   "outputs": [
    {
     "data": {
      "text/plain": [
       "Lin_Regres_Model(\n",
       "  (linear): Linear(in_features=1, out_features=1, bias=True)\n",
       ")"
      ]
     },
     "execution_count": 52,
     "metadata": {},
     "output_type": "execute_result"
    }
   ],
   "source": [
    "model.eval()"
   ]
  },
  {
   "cell_type": "code",
   "execution_count": 53,
   "id": "c8db58e0-4710-454a-9651-b1c0b8f726df",
   "metadata": {},
   "outputs": [],
   "source": [
    "with torch.no_grad():\n",
    "    prediction_normalized = model(new_x_tensor)"
   ]
  },
  {
   "cell_type": "code",
   "execution_count": 57,
   "id": "09011b86-f940-4d6c-9537-5af4d474b45d",
   "metadata": {},
   "outputs": [],
   "source": [
    "prediction_denormalized = prediction_normalized.item() * y_std + y_mean"
   ]
  },
  {
   "cell_type": "code",
   "execution_count": 59,
   "id": "fda982b3-489c-4b2c-bc8f-5ee3491e6064",
   "metadata": {},
   "outputs": [
    {
     "name": "stdout",
     "output_type": "stream",
     "text": [
      "Predicted value for x = 69420: 138885.9882884912; the difference is: -69465.98828849121\n"
     ]
    }
   ],
   "source": [
    "print(f\"Predicted value for x = {new_x}: {prediction_denormalized}; the difference is: {new_x - prediction_denormalized}\")"
   ]
  },
  {
   "cell_type": "code",
   "execution_count": null,
   "id": "af88cbc0-3cab-45f5-98c8-a17e2ee34249",
   "metadata": {},
   "outputs": [],
   "source": []
  }
 ],
 "metadata": {
  "kernelspec": {
   "display_name": "Python 3 (ipykernel)",
   "language": "python",
   "name": "python3"
  },
  "language_info": {
   "codemirror_mode": {
    "name": "ipython",
    "version": 3
   },
   "file_extension": ".py",
   "mimetype": "text/x-python",
   "name": "python",
   "nbconvert_exporter": "python",
   "pygments_lexer": "ipython3",
   "version": "3.11.8"
  }
 },
 "nbformat": 4,
 "nbformat_minor": 5
}
