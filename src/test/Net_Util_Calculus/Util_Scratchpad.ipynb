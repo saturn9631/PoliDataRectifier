{
 "cells": [
  {
   "cell_type": "code",
   "execution_count": 1,
   "id": "9562e143-2d13-4ee7-ab7d-eedfb5cfe43e",
   "metadata": {},
   "outputs": [],
   "source": [
    "import numpy as np\n",
    "import sympy as smp\n",
    "import torch as tc\n",
    "from torch import nn\n",
    "from torch.utils.data import DataLoader\n",
    "from torchvision import datasets, transforms\n",
    "import matplotlib.pyplot as plt"
   ]
  },
  {
   "cell_type": "code",
   "execution_count": 2,
   "id": "44a75630-caec-4e4d-980c-0233d3c695b5",
   "metadata": {},
   "outputs": [],
   "source": [
    "class Test_Neural_Net(nn.Module):\n",
    "    def __init__(self, terms):\n",
    "        self.linear_relu_stack = nn.Sequential(\n",
    "            nn.Linear(terms, 55),\n",
    "            nn.ReLu()\n",
    "        )"
   ]
  },
  {
   "cell_type": "code",
   "execution_count": 5,
   "id": "60326e43-1e5b-4fdc-a51f-9bba59d36235",
   "metadata": {},
   "outputs": [],
   "source": [
    "data = np.array ([\n",
    "    [12, 20, 20, 30],\n",
    "    [11, 9, 40, 50],\n",
    "    [12, 26, 18, 10]\n",
    "])"
   ]
  },
  {
   "cell_type": "code",
   "execution_count": 8,
   "id": "2b12536a-6a31-423e-90ce-f6192fc3afb8",
   "metadata": {},
   "outputs": [
    {
     "name": "stdout",
     "output_type": "stream",
     "text": [
      "[12 20 20 30]\n",
      "[11  9 40 50]\n",
      "[12 26 18 10]\n"
     ]
    }
   ],
   "source": [
    "for entry in data:\n",
    "    print (entry)"
   ]
  },
  {
   "cell_type": "code",
   "execution_count": 10,
   "id": "6d3befbf-be97-44d8-8729-95e27aeabe8d",
   "metadata": {},
   "outputs": [
    {
     "data": {
      "text/plain": [
       "3"
      ]
     },
     "execution_count": 10,
     "metadata": {},
     "output_type": "execute_result"
    }
   ],
   "source": [
    "len(data)"
   ]
  },
  {
   "cell_type": "code",
   "execution_count": 11,
   "id": "eb43093c-6fdf-4848-a963-a68802b09a49",
   "metadata": {},
   "outputs": [
    {
     "data": {
      "text/plain": [
       "2"
      ]
     },
     "execution_count": 11,
     "metadata": {},
     "output_type": "execute_result"
    }
   ],
   "source": [
    "len(data) - 1"
   ]
  },
  {
   "cell_type": "code",
   "execution_count": 12,
   "id": "9e6394ab-4536-458f-bb25-c1f57f38f3dd",
   "metadata": {},
   "outputs": [
    {
     "data": {
      "text/plain": [
       "array([11,  9, 40, 50])"
      ]
     },
     "execution_count": 12,
     "metadata": {},
     "output_type": "execute_result"
    }
   ],
   "source": [
    "data[1]"
   ]
  },
  {
   "cell_type": "code",
   "execution_count": 14,
   "id": "d5eca642-708f-4b94-b2af-22d74ed8695a",
   "metadata": {},
   "outputs": [
    {
     "name": "stdout",
     "output_type": "stream",
     "text": [
      "0\n",
      "1\n",
      "2\n"
     ]
    }
   ],
   "source": [
    "for index in range(len(data)):\n",
    "    print (index)"
   ]
  },
  {
   "cell_type": "code",
   "execution_count": null,
   "id": "eb64b5c8-e4c1-4867-a589-1d6e60557b8f",
   "metadata": {},
   "outputs": [],
   "source": [
    "|"
   ]
  }
 ],
 "metadata": {
  "kernelspec": {
   "display_name": "Python 3 (ipykernel)",
   "language": "python",
   "name": "python3"
  },
  "language_info": {
   "codemirror_mode": {
    "name": "ipython",
    "version": 3
   },
   "file_extension": ".py",
   "mimetype": "text/x-python",
   "name": "python",
   "nbconvert_exporter": "python",
   "pygments_lexer": "ipython3",
   "version": "3.11.8"
  }
 },
 "nbformat": 4,
 "nbformat_minor": 5
}
