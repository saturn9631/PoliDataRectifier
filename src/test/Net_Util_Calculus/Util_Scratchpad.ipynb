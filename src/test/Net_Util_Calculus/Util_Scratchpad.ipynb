{
 "cells": [
  {
   "cell_type": "code",
   "execution_count": 3,
   "id": "9562e143-2d13-4ee7-ab7d-eedfb5cfe43e",
   "metadata": {},
   "outputs": [],
   "source": [
    "import numpy as np\n",
    "import sympy as smp\n",
    "import matplotlib.pyplot as plt"
   ]
  },
  {
   "cell_type": "code",
   "execution_count": 4,
   "id": "af88cbc0-3cab-45f5-98c8-a17e2ee34249",
   "metadata": {},
   "outputs": [],
   "source": [
    "points = np.array([[1, 5.6, 7.925, 8.1112, 11, 15.89],[2, 4.8977, 6.5358, 9.256, 7.586, 12.256]])"
   ]
  },
  {
   "cell_type": "code",
   "execution_count": 5,
   "id": "c6323fb9-4acc-4202-af2a-49eb56dd0249",
   "metadata": {},
   "outputs": [],
   "source": [
    "y, x, m, b = smp.symbols(\"y x m b\")"
   ]
  },
  {
   "cell_type": "code",
   "execution_count": 6,
   "id": "2b6a214e-aa3b-4deb-a6b6-06164b34dfbd",
   "metadata": {},
   "outputs": [],
   "source": [
    "#y = smp.Function(\"y\")(x, m, b)"
   ]
  },
  {
   "cell_type": "code",
   "execution_count": 7,
   "id": "feb443bb-8e82-4121-ad79-90b903baa580",
   "metadata": {},
   "outputs": [],
   "source": [
    "error = (y - (m*x + b))**2"
   ]
  },
  {
   "cell_type": "code",
   "execution_count": 8,
   "id": "761f689a-051d-4502-a811-eaa52c5ad661",
   "metadata": {},
   "outputs": [],
   "source": [
    "partial_m = error.diff(m)"
   ]
  },
  {
   "cell_type": "code",
   "execution_count": 9,
   "id": "3a5198da-e1f1-4f72-b8a6-af51e4453cee",
   "metadata": {},
   "outputs": [],
   "source": [
    "partial_b = error.diff(b)"
   ]
  },
  {
   "cell_type": "code",
   "execution_count": 10,
   "id": "14d09b12-2e11-4ff1-95da-3cb8c36f407b",
   "metadata": {},
   "outputs": [],
   "source": [
    "x_points = np.random.rand (5) * np.linspace(0, 15, 5)\n",
    "y_points = np.random.rand (5) * np.linspace(0, 20, 5)"
   ]
  },
  {
   "cell_type": "code",
   "execution_count": 11,
   "id": "df075ef2-ff7e-4dbb-8405-d8a887e634f3",
   "metadata": {},
   "outputs": [],
   "source": [
    "coefficients = np.array([1, 4, 12, 16, 25, 24, 21, 32, 36])"
   ]
  },
  {
   "cell_type": "code",
   "execution_count": null,
   "id": "4ed5ecca-313c-4d04-9478-6c0140beb06d",
   "metadata": {},
   "outputs": [],
   "source": [
    "input = smp.symbols(\"x\")\n",
    "center = 0\n",
    "result = 0\n",
    "index = 0\n",
    "for coefficient in coefficients:\n",
    "    result += (coefficient / math.factorial(index)) * (input - center) ** index\n",
    "    index += 1\n",
    "return result\n"
   ]
  }
 ],
 "metadata": {
  "kernelspec": {
   "display_name": "Python 3 (ipykernel)",
   "language": "python",
   "name": "python3"
  },
  "language_info": {
   "codemirror_mode": {
    "name": "ipython",
    "version": 3
   },
   "file_extension": ".py",
   "mimetype": "text/x-python",
   "name": "python",
   "nbconvert_exporter": "python",
   "pygments_lexer": "ipython3",
   "version": "3.11.8"
  }
 },
 "nbformat": 4,
 "nbformat_minor": 5
}
