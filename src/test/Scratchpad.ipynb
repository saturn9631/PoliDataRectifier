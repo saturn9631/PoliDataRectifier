{
 "cells": [
  {
   "cell_type": "code",
   "execution_count": 2,
   "id": "209384aa-dbaa-4821-a10a-7a4d40f8fe57",
   "metadata": {},
   "outputs": [],
   "source": [
    "import numpy as np"
   ]
  },
  {
   "cell_type": "code",
   "execution_count": 3,
   "id": "324466ea-f275-4ca5-9f2e-dff52ec298f1",
   "metadata": {},
   "outputs": [],
   "source": [
    "import pandas as pd"
   ]
  },
  {
   "cell_type": "code",
   "execution_count": 4,
   "id": "d6ab0ad4-2f53-4b4c-b0e9-6393af97330c",
   "metadata": {},
   "outputs": [],
   "source": [
    "import scipy as sc"
   ]
  },
  {
   "cell_type": "code",
   "execution_count": 5,
   "id": "792d63a2-c709-45b3-bfe9-1594d56f9354",
   "metadata": {},
   "outputs": [],
   "source": [
    "import sympy as smp"
   ]
  },
  {
   "cell_type": "code",
   "execution_count": 6,
   "id": "61cbb14c-5a67-40c7-9f40-3c85ed418044",
   "metadata": {},
   "outputs": [],
   "source": [
    "import torch"
   ]
  },
  {
   "cell_type": "code",
   "execution_count": 7,
   "id": "acc47794-cbe8-478c-8f63-f3e64ea36825",
   "metadata": {},
   "outputs": [],
   "source": [
    "data = pd.DataFrame({\"a\" : [1,2,3,4,5],\n",
    "                    \"b\" : [6,7,8,9,10],\n",
    "                    \"c\" : [11,12,13,14,15],\n",
    "                    \"d\" : [16,17,18,19,20],\n",
    "                    \"e\" : [21,22,23,24,25],\n",
    "                    \"f\" : [26,27,28,29,30],\n",
    "                    \"g\" : [31,32,33,34,35],\n",
    "                    \"h\" : [36,37,38,39,40]})"
   ]
  },
  {
   "cell_type": "code",
   "execution_count": 36,
   "id": "d3fe6bdd-fac8-4970-b7e1-3ab830af9d01",
   "metadata": {},
   "outputs": [],
   "source": [
    "strategy, time, player_actions = smp.symbols(\"sigma t a\")"
   ]
  },
  {
   "cell_type": "code",
   "execution_count": 37,
   "id": "a6da2d87-99e9-479a-9871-6891bb653352",
   "metadata": {},
   "outputs": [],
   "source": [
    "strategy = smp.Function(strategy)(time, player_actions)"
   ]
  },
  {
   "cell_type": "code",
   "execution_count": 39,
   "id": "e8a75ba9-77ab-4211-bdc5-0af1c0ea7e97",
   "metadata": {},
   "outputs": [
    {
     "data": {
      "text/plain": [
       "\"Strategy gives the payoff of one of the players\\nbased on their's and other's actions.\\nThe target player is the first one menioned.\""
      ]
     },
     "execution_count": 39,
     "metadata": {},
     "output_type": "execute_result"
    }
   ],
   "source": [
    "\"\"\"Strategy gives the payoff of one of the players\n",
    "based on their's and other's actions.\n",
    "The target player is the first one menioned.\"\"\""
   ]
  },
  {
   "cell_type": "code",
   "execution_count": null,
   "id": "ede84637-26c5-45a6-8404-41f318dcef56",
   "metadata": {},
   "outputs": [],
   "source": []
  },
  {
   "cell_type": "code",
   "execution_count": null,
   "id": "2a9354cb-03ea-4a71-ae6b-2731bf96dfcf",
   "metadata": {},
   "outputs": [],
   "source": []
  }
 ],
 "metadata": {
  "kernelspec": {
   "display_name": "Python 3 (ipykernel)",
   "language": "python",
   "name": "python3"
  },
  "language_info": {
   "codemirror_mode": {
    "name": "ipython",
    "version": 3
   },
   "file_extension": ".py",
   "mimetype": "text/x-python",
   "name": "python",
   "nbconvert_exporter": "python",
   "pygments_lexer": "ipython3",
   "version": "3.11.6"
  }
 },
 "nbformat": 4,
 "nbformat_minor": 5
}
