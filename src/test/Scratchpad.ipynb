{
 "cells": [
  {
   "cell_type": "code",
   "execution_count": 1,
   "id": "209384aa-dbaa-4821-a10a-7a4d40f8fe57",
   "metadata": {},
   "outputs": [],
   "source": [
    "import numpy as np"
   ]
  },
  {
   "cell_type": "code",
   "execution_count": 2,
   "id": "324466ea-f275-4ca5-9f2e-dff52ec298f1",
   "metadata": {},
   "outputs": [],
   "source": [
    "import pandas as pd"
   ]
  },
  {
   "cell_type": "code",
   "execution_count": 3,
   "id": "d6ab0ad4-2f53-4b4c-b0e9-6393af97330c",
   "metadata": {},
   "outputs": [],
   "source": [
    "import scipy as sc"
   ]
  },
  {
   "cell_type": "code",
   "execution_count": 4,
   "id": "792d63a2-c709-45b3-bfe9-1594d56f9354",
   "metadata": {},
   "outputs": [],
   "source": [
    "import sympy as smp"
   ]
  },
  {
   "cell_type": "code",
   "execution_count": 5,
   "id": "61cbb14c-5a67-40c7-9f40-3c85ed418044",
   "metadata": {},
   "outputs": [],
   "source": [
    "import torch"
   ]
  },
  {
   "cell_type": "code",
   "execution_count": 37,
   "id": "acc47794-cbe8-478c-8f63-f3e64ea36825",
   "metadata": {},
   "outputs": [],
   "source": [
    "data = pd.DataFrame({\"a\" : [1,2,3,4,5],\n",
    "                    \"b\" : [6,7,8,9,10],\n",
    "                    \"c\" : [11,12,13,14,15],\n",
    "                    \"d\" : [16,17,18,19,20],\n",
    "                    \"e\" : [21,22,23,24,25],\n",
    "                    \"f\" : [26,27,28,29,30],\n",
    "                    \"g\" : [31,32,33,34,35],\n",
    "                    \"h\" : [36,37,38,39,40]})"
   ]
  },
  {
   "cell_type": "code",
   "execution_count": 14,
   "id": "bf36656c-edf9-47b4-a740-3233009253ce",
   "metadata": {},
   "outputs": [],
   "source": [
    "payoff, benefit, cost, strategy, other_players = smp.symbols (\"p b c sigma o\")"
   ]
  },
  {
   "cell_type": "code",
   "execution_count": 15,
   "id": "2a9354cb-03ea-4a71-ae6b-2731bf96dfcf",
   "metadata": {},
   "outputs": [],
   "source": [
    "game_lagrangian = smp.Eq(payoff, benefit - cost)"
   ]
  },
  {
   "cell_type": "code",
   "execution_count": 16,
   "id": "beee659b-57fb-436a-b24d-e8f25a4bbb74",
   "metadata": {},
   "outputs": [
    {
     "data": {
      "text/latex": [
       "$\\displaystyle p = b - c$"
      ],
      "text/plain": [
       "Eq(p, b - c)"
      ]
     },
     "execution_count": 16,
     "metadata": {},
     "output_type": "execute_result"
    }
   ],
   "source": [
    "game_lagrangian"
   ]
  },
  {
   "cell_type": "code",
   "execution_count": 17,
   "id": "8a9eb435-57e5-41e4-babb-cf486440a0cd",
   "metadata": {},
   "outputs": [],
   "source": [
    "benefit = smp.Function(\"b\")(strategy)"
   ]
  },
  {
   "cell_type": "code",
   "execution_count": 18,
   "id": "cb905f5d-f6e3-48aa-bd05-971c0b159e65",
   "metadata": {},
   "outputs": [],
   "source": [
    "cost = smp.Function(\"c\")(strategy)"
   ]
  },
  {
   "cell_type": "code",
   "execution_count": 19,
   "id": "fd285884-d8b6-41ed-83ad-edeb88a8ce14",
   "metadata": {},
   "outputs": [],
   "source": [
    "p = smp.Function(\"p\")(benefit, cost)"
   ]
  },
  {
   "cell_type": "code",
   "execution_count": 20,
   "id": "762f3b5a-4416-4ea6-9c66-dded5d8b418e",
   "metadata": {},
   "outputs": [],
   "source": [
    "game_lagrangian = smp.Eq(payoff, benefit - cost)"
   ]
  },
  {
   "cell_type": "code",
   "execution_count": 21,
   "id": "f6f472a7-ab2e-4284-acc0-409c57fda81b",
   "metadata": {},
   "outputs": [
    {
     "data": {
      "text/latex": [
       "$\\displaystyle p = b{\\left(\\sigma \\right)} - c{\\left(\\sigma \\right)}$"
      ],
      "text/plain": [
       "Eq(p, b(sigma) - c(sigma))"
      ]
     },
     "execution_count": 21,
     "metadata": {},
     "output_type": "execute_result"
    }
   ],
   "source": [
    "game_lagrangian"
   ]
  },
  {
   "cell_type": "code",
   "execution_count": 23,
   "id": "b0cbb1d0-8a79-4271-abce-297ddd0b863d",
   "metadata": {},
   "outputs": [],
   "source": [
    "payoff_opt_condi = smp.Eq(0, p.diff())"
   ]
  },
  {
   "cell_type": "code",
   "execution_count": 24,
   "id": "6fa58b08-c1fc-4e3c-9edd-38560d754a50",
   "metadata": {},
   "outputs": [
    {
     "data": {
      "text/latex": [
       "$\\displaystyle 0 = \\frac{d}{d \\sigma} b{\\left(\\sigma \\right)} \\frac{d}{d b{\\left(\\sigma \\right)}} p{\\left(b{\\left(\\sigma \\right)},c{\\left(\\sigma \\right)} \\right)} + \\frac{d}{d \\sigma} c{\\left(\\sigma \\right)} \\frac{d}{d c{\\left(\\sigma \\right)}} p{\\left(b{\\left(\\sigma \\right)},c{\\left(\\sigma \\right)} \\right)}$"
      ],
      "text/plain": [
       "Eq(0, Derivative(b(sigma), sigma)*Derivative(p(b(sigma), c(sigma)), b(sigma)) + Derivative(c(sigma), sigma)*Derivative(p(b(sigma), c(sigma)), c(sigma)))"
      ]
     },
     "execution_count": 24,
     "metadata": {},
     "output_type": "execute_result"
    }
   ],
   "source": [
    "payoff_opt_condi"
   ]
  },
  {
   "cell_type": "code",
   "execution_count": 27,
   "id": "d0b4a0a6-8ae6-4c7a-b070-f7aea21d8d08",
   "metadata": {},
   "outputs": [
    {
     "data": {
      "text/latex": [
       "$\\displaystyle 0 = \\frac{d}{d b{\\left(\\sigma \\right)}} \\left(b{\\left(\\sigma \\right)} - c{\\left(\\sigma \\right)}\\right) \\frac{d}{d \\sigma} b{\\left(\\sigma \\right)} + \\frac{d}{d c{\\left(\\sigma \\right)}} \\left(b{\\left(\\sigma \\right)} - c{\\left(\\sigma \\right)}\\right) \\frac{d}{d \\sigma} c{\\left(\\sigma \\right)}$"
      ],
      "text/plain": [
       "Eq(0, Derivative(b(sigma) - c(sigma), b(sigma))*Derivative(b(sigma), sigma) + Derivative(b(sigma) - c(sigma), c(sigma))*Derivative(c(sigma), sigma))"
      ]
     },
     "execution_count": 27,
     "metadata": {},
     "output_type": "execute_result"
    }
   ],
   "source": [
    "payoff_opt_condi.subs({p : benefit-cost})"
   ]
  },
  {
   "cell_type": "code",
   "execution_count": null,
   "id": "332caed2-d1f7-4f0c-a6d8-a7aef24cddb1",
   "metadata": {},
   "outputs": [],
   "source": []
  }
 ],
 "metadata": {
  "kernelspec": {
   "display_name": "Python 3 (ipykernel)",
   "language": "python",
   "name": "python3"
  },
  "language_info": {
   "codemirror_mode": {
    "name": "ipython",
    "version": 3
   },
   "file_extension": ".py",
   "mimetype": "text/x-python",
   "name": "python",
   "nbconvert_exporter": "python",
   "pygments_lexer": "ipython3",
   "version": "3.11.8"
  }
 },
 "nbformat": 4,
 "nbformat_minor": 5
}
