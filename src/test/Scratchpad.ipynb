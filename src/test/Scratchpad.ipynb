{
 "cells": [
  {
   "cell_type": "code",
   "execution_count": 1,
   "id": "209384aa-dbaa-4821-a10a-7a4d40f8fe57",
   "metadata": {},
   "outputs": [],
   "source": [
    "import numpy as np"
   ]
  },
  {
   "cell_type": "code",
   "execution_count": 2,
   "id": "324466ea-f275-4ca5-9f2e-dff52ec298f1",
   "metadata": {},
   "outputs": [],
   "source": [
    "import pandas as pd"
   ]
  },
  {
   "cell_type": "code",
   "execution_count": 3,
   "id": "d6ab0ad4-2f53-4b4c-b0e9-6393af97330c",
   "metadata": {},
   "outputs": [],
   "source": [
    "import scipy as sc"
   ]
  },
  {
   "cell_type": "code",
   "execution_count": 4,
   "id": "792d63a2-c709-45b3-bfe9-1594d56f9354",
   "metadata": {},
   "outputs": [],
   "source": [
    "import sympy as smp"
   ]
  },
  {
   "cell_type": "code",
   "execution_count": 5,
   "id": "61cbb14c-5a67-40c7-9f40-3c85ed418044",
   "metadata": {},
   "outputs": [],
   "source": [
    "import torch"
   ]
  },
  {
   "cell_type": "code",
   "execution_count": 6,
   "id": "acc47794-cbe8-478c-8f63-f3e64ea36825",
   "metadata": {},
   "outputs": [],
   "source": [
    "data = pd.DataFrame({\"a\" : [1,2,3,4,5],\n",
    "                    \"b\" : [6,7,8,9,10],\n",
    "                    \"c\" : [11,12,13,14,15],\n",
    "                    \"d\" : [16,17,18,19,20],\n",
    "                    \"e\" : [21,22,23,24,25],\n",
    "                    \"f\" : [26,27,28,29,30],\n",
    "                    \"g\" : [31,32,33,34,35],\n",
    "                    \"h\" : [36,37,38,39,40]})"
   ]
  },
  {
   "cell_type": "code",
   "execution_count": 7,
   "id": "594dca29-36c4-4d11-9e9e-fd709ae0be04",
   "metadata": {},
   "outputs": [],
   "source": [
    "p1_defect = np.array([\n",
    "    [5, 10],\n",
    "    [5, 1]\n",
    "])"
   ]
  },
  {
   "cell_type": "code",
   "execution_count": 8,
   "id": "0e480fe9-6268-4f15-9fcc-097bf5703dad",
   "metadata": {},
   "outputs": [],
   "source": [
    "p1_cooperate = np.array([\n",
    "    [1, 7],\n",
    "    [10,7]\n",
    "])"
   ]
  },
  {
   "cell_type": "code",
   "execution_count": 9,
   "id": "d753f0fb-4178-4981-91ea-a434de5d15b1",
   "metadata": {},
   "outputs": [],
   "source": [
    "p2_defect = np.array([1,0])"
   ]
  },
  {
   "cell_type": "code",
   "execution_count": 10,
   "id": "20e6e36f-1e0f-40b9-b328-10cdd3d254ef",
   "metadata": {},
   "outputs": [],
   "source": [
    "p2_cooperate = np.array([0,1])"
   ]
  },
  {
   "cell_type": "code",
   "execution_count": 11,
   "id": "caefe278-d4f1-441d-96f8-d70f6d90ec99",
   "metadata": {},
   "outputs": [
    {
     "data": {
      "text/plain": [
       "array([5, 5])"
      ]
     },
     "execution_count": 11,
     "metadata": {},
     "output_type": "execute_result"
    }
   ],
   "source": [
    "p1_defect.dot(p2_defect)"
   ]
  },
  {
   "cell_type": "code",
   "execution_count": 12,
   "id": "4f6f657a-ec11-44ca-a56d-9991bf3fb97c",
   "metadata": {},
   "outputs": [
    {
     "data": {
      "text/plain": [
       "array([10,  1])"
      ]
     },
     "execution_count": 12,
     "metadata": {},
     "output_type": "execute_result"
    }
   ],
   "source": [
    "p1_defect.dot(p2_cooperate)"
   ]
  },
  {
   "cell_type": "code",
   "execution_count": 13,
   "id": "7edd0e4d-ecc8-4e16-9063-174e8ecd2a47",
   "metadata": {},
   "outputs": [
    {
     "data": {
      "text/plain": [
       "array([ 1, 10])"
      ]
     },
     "execution_count": 13,
     "metadata": {},
     "output_type": "execute_result"
    }
   ],
   "source": [
    "p1_cooperate.dot(p2_defect)"
   ]
  },
  {
   "cell_type": "code",
   "execution_count": 14,
   "id": "54313969-b7ee-4499-a1e2-b61f7910be2d",
   "metadata": {},
   "outputs": [
    {
     "data": {
      "text/plain": [
       "array([7, 7])"
      ]
     },
     "execution_count": 14,
     "metadata": {},
     "output_type": "execute_result"
    }
   ],
   "source": [
    "p1_cooperate.dot(p2_cooperate)"
   ]
  },
  {
   "cell_type": "code",
   "execution_count": 15,
   "id": "2427416f-c4fc-4f68-9207-82de405b8c11",
   "metadata": {},
   "outputs": [
    {
     "data": {
      "text/plain": [
       "'below is matching pennies\\n    payoffs are:\\n                 _______________________________\\n                |(p1,p2)|left   |player2| right |\\n                |-------|-----------------------|\\n                |  up   | 3,-3      |   -2,2    |\\n                |-------|           |           |\\n                |player1|-----------------------|\\n                |-------| -1,1      | 0,0       |\\n                | down  |           |           |\\n                |_______|___________|___________|\\n                '"
      ]
     },
     "execution_count": 15,
     "metadata": {},
     "output_type": "execute_result"
    }
   ],
   "source": [
    "\"\"\"below is matching pennies\n",
    "    payoffs are:\n",
    "                 _______________________________\n",
    "                |(p1,p2)|left   |player2| right |\n",
    "                |-------|-----------------------|\n",
    "                |  up   | 3,-3      |   -2,2    |\n",
    "                |-------|           |           |\n",
    "                |player1|-----------------------|\n",
    "                |-------| -1,1      | 0,0       |\n",
    "                | down  |           |           |\n",
    "                |_______|___________|___________|\n",
    "                \"\"\""
   ]
  },
  {
   "cell_type": "code",
   "execution_count": 16,
   "id": "b607b6e5-eb9b-4d8e-acf2-3a17af94ce5d",
   "metadata": {},
   "outputs": [
    {
     "data": {
      "text/latex": [
       "$\\displaystyle \\sigma_{u}$"
      ],
      "text/plain": [
       "sigma_u"
      ]
     },
     "execution_count": 16,
     "metadata": {},
     "output_type": "execute_result"
    }
   ],
   "source": [
    "strategy = smp.symbols(\"sigma_u\")\n",
    "strategy"
   ]
  },
  {
   "cell_type": "code",
   "execution_count": 17,
   "id": "2a54490e-ce40-42f5-9912-9f20680bbab6",
   "metadata": {},
   "outputs": [],
   "source": [
    "expect_util_left = smp.Function(\"EU_l\")(strategy)"
   ]
  },
  {
   "cell_type": "code",
   "execution_count": 18,
   "id": "0b846247-850a-41ce-bcd6-0b4658e898fb",
   "metadata": {},
   "outputs": [],
   "source": [
    "expect_util_right = smp.Function(\"EU_R\")(strategy)"
   ]
  },
  {
   "cell_type": "code",
   "execution_count": 19,
   "id": "f2a4c6b7-a72b-499a-88ac-20e51c81af12",
   "metadata": {},
   "outputs": [
    {
     "data": {
      "text/latex": [
       "$\\displaystyle \\operatorname{EU}_{l}{\\left(\\sigma_{u} \\right)} = \\operatorname{EU}_{R}{\\left(\\sigma_{u} \\right)}$"
      ],
      "text/plain": [
       "Eq(EU_l(sigma_u), EU_R(sigma_u))"
      ]
     },
     "execution_count": 19,
     "metadata": {},
     "output_type": "execute_result"
    }
   ],
   "source": [
    "indifference_equation = smp.Eq(expect_util_left, expect_util_right)\n",
    "indifference_equation"
   ]
  },
  {
   "cell_type": "code",
   "execution_count": 20,
   "id": "0dc3ead7-1bfc-4247-a913-97385afd1afd",
   "metadata": {},
   "outputs": [
    {
     "data": {
      "text/latex": [
       "$\\displaystyle \\operatorname{EU}_{l}{\\left(\\sigma_{u} \\right)} = 1 - 4 \\sigma_{u}$"
      ],
      "text/plain": [
       "Eq(EU_l(sigma_u), 1 - 4*sigma_u)"
      ]
     },
     "execution_count": 20,
     "metadata": {},
     "output_type": "execute_result"
    }
   ],
   "source": [
    "p2payoff1 = smp.Eq(expect_util_left, -3 * strategy + (1 - strategy) * 1)\n",
    "p2payoff1"
   ]
  },
  {
   "cell_type": "code",
   "execution_count": 21,
   "id": "7bc0a00c-f0f1-43db-ad86-21abc3b814ce",
   "metadata": {},
   "outputs": [
    {
     "data": {
      "text/latex": [
       "$\\displaystyle \\operatorname{EU}_{R}{\\left(\\sigma_{u} \\right)} = 2 \\sigma_{u}$"
      ],
      "text/plain": [
       "Eq(EU_R(sigma_u), 2*sigma_u)"
      ]
     },
     "execution_count": 21,
     "metadata": {},
     "output_type": "execute_result"
    }
   ],
   "source": [
    "p2payoff2 = smp.Eq(expect_util_right, 2 * strategy)\n",
    "p2payoff2"
   ]
  },
  {
   "cell_type": "code",
   "execution_count": 22,
   "id": "b566f79d-cfbc-43a8-9be0-fad9e15edb08",
   "metadata": {},
   "outputs": [
    {
     "data": {
      "text/latex": [
       "$\\displaystyle 1 - 4 \\sigma_{u} = 2 \\sigma_{u}$"
      ],
      "text/plain": [
       "Eq(1 - 4*sigma_u, 2*sigma_u)"
      ]
     },
     "execution_count": 22,
     "metadata": {},
     "output_type": "execute_result"
    }
   ],
   "source": [
    "indifference_eq = smp.Equality(1 - 4 * strategy, 2 * strategy)\n",
    "indifference_eq"
   ]
  },
  {
   "cell_type": "code",
   "execution_count": 23,
   "id": "cd9ffa34-e780-44b5-9e07-b4d2013cc055",
   "metadata": {},
   "outputs": [
    {
     "data": {
      "text/latex": [
       "$\\displaystyle \\sigma_{u} = \\frac{1}{6}$"
      ],
      "text/plain": [
       "Eq(sigma_u, 1/6)"
      ]
     },
     "execution_count": 23,
     "metadata": {},
     "output_type": "execute_result"
    }
   ],
   "source": [
    "indifference_eq.simplify()"
   ]
  },
  {
   "cell_type": "code",
   "execution_count": 24,
   "id": "a3fb364b-eedf-4531-8bd7-9d3684675cab",
   "metadata": {},
   "outputs": [
    {
     "data": {
      "text/latex": [
       "$\\displaystyle \\operatorname{EU}_{l}{\\left(\\sigma_{u} \\right)} = \\operatorname{EU}_{R}{\\left(\\sigma_{u} \\right)}$"
      ],
      "text/plain": [
       "Eq(EU_l(sigma_u), EU_R(sigma_u))"
      ]
     },
     "execution_count": 24,
     "metadata": {},
     "output_type": "execute_result"
    }
   ],
   "source": [
    "indifference_eq = smp.Equality(expect_util_left, expect_util_right)\n",
    "indifference_eq"
   ]
  },
  {
   "cell_type": "code",
   "execution_count": 31,
   "id": "447f18bf-b727-48e2-8ff3-47ef433e7d39",
   "metadata": {},
   "outputs": [],
   "source": [
    "lagrangian = smp.Function(\"l\")(expect_util_left, expect_util_right)"
   ]
  },
  {
   "cell_type": "code",
   "execution_count": 32,
   "id": "c0f61e4c-643d-48a7-b418-087ec8136c62",
   "metadata": {},
   "outputs": [
    {
     "data": {
      "text/latex": [
       "$\\displaystyle l{\\left(\\operatorname{EU}_{l}{\\left(\\sigma_{u} \\right)},\\operatorname{EU}_{R}{\\left(\\sigma_{u} \\right)} \\right)} = - \\operatorname{EU}_{R}{\\left(\\sigma_{u} \\right)} + \\operatorname{EU}_{l}{\\left(\\sigma_{u} \\right)}$"
      ],
      "text/plain": [
       "Eq(l(EU_l(sigma_u), EU_R(sigma_u)), -EU_R(sigma_u) + EU_l(sigma_u))"
      ]
     },
     "execution_count": 32,
     "metadata": {},
     "output_type": "execute_result"
    }
   ],
   "source": [
    "indif_lagra = smp.Equality(lagrangian, expect_util_left - expect_util_right)\n",
    "indif_lagra"
   ]
  },
  {
   "cell_type": "code",
   "execution_count": 34,
   "id": "ae60f37b-9f4a-4090-ad6f-50e981f84e3d",
   "metadata": {},
   "outputs": [
    {
     "data": {
      "text/latex": [
       "$\\displaystyle \\frac{d}{d \\sigma_{u}} \\operatorname{EU}_{R}{\\left(\\sigma_{u} \\right)} \\frac{d}{d \\operatorname{EU}_{R}{\\left(\\sigma_{u} \\right)}} l{\\left(\\operatorname{EU}_{l}{\\left(\\sigma_{u} \\right)},\\operatorname{EU}_{R}{\\left(\\sigma_{u} \\right)} \\right)} + \\frac{d}{d \\sigma_{u}} \\operatorname{EU}_{l}{\\left(\\sigma_{u} \\right)} \\frac{d}{d \\operatorname{EU}_{l}{\\left(\\sigma_{u} \\right)}} l{\\left(\\operatorname{EU}_{l}{\\left(\\sigma_{u} \\right)},\\operatorname{EU}_{R}{\\left(\\sigma_{u} \\right)} \\right)} = - \\frac{d}{d \\sigma_{u}} \\operatorname{EU}_{R}{\\left(\\sigma_{u} \\right)} + \\frac{d}{d \\sigma_{u}} \\operatorname{EU}_{l}{\\left(\\sigma_{u} \\right)}$"
      ],
      "text/plain": [
       "Eq(Derivative(EU_R(sigma_u), sigma_u)*Derivative(l(EU_l(sigma_u), EU_R(sigma_u)), EU_R(sigma_u)) + Derivative(EU_l(sigma_u), sigma_u)*Derivative(l(EU_l(sigma_u), EU_R(sigma_u)), EU_l(sigma_u)), -Derivative(EU_R(sigma_u), sigma_u) + Derivative(EU_l(sigma_u), sigma_u))"
      ]
     },
     "execution_count": 34,
     "metadata": {},
     "output_type": "execute_result"
    }
   ],
   "source": [
    "indif_lagra_der = smp.Equality(lagrangian.diff(strategy), (expect_util_left - expect_util_right).diff())\n",
    "indif_lagra_der"
   ]
  },
  {
   "cell_type": "code",
   "execution_count": null,
   "id": "62e54b81-325c-42cd-b5a6-b4b69d1702cb",
   "metadata": {},
   "outputs": [],
   "source": []
  },
  {
   "cell_type": "code",
   "execution_count": null,
   "id": "6bf8c062-c9ba-4141-8fa7-afb4f4e11b55",
   "metadata": {},
   "outputs": [],
   "source": []
  },
  {
   "cell_type": "code",
   "execution_count": null,
   "id": "eb502c3b-1bdf-4f38-beff-97a5fdeb13e4",
   "metadata": {},
   "outputs": [],
   "source": []
  }
 ],
 "metadata": {
  "kernelspec": {
   "display_name": "Python 3 (ipykernel)",
   "language": "python",
   "name": "python3"
  },
  "language_info": {
   "codemirror_mode": {
    "name": "ipython",
    "version": 3
   },
   "file_extension": ".py",
   "mimetype": "text/x-python",
   "name": "python",
   "nbconvert_exporter": "python",
   "pygments_lexer": "ipython3",
   "version": "3.11.2"
  }
 },
 "nbformat": 4,
 "nbformat_minor": 5
}
